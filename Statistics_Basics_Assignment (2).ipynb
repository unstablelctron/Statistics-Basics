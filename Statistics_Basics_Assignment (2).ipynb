{
 "cells": [
  {
   "cell_type": "markdown",
   "id": "f362a64c",
   "metadata": {},
   "source": [
    "# Statistics Basics | Assignment\n",
    "\n",
    "**Assignment Code**: DS-AG-005  \n",
    "**Module**: Statistics - Module 1  \n",
    "**Platform**: PW Skills  \n",
    "\n",
    "This notebook contains the solution to the assignment on Statistics Basics.\n"
   ]
  },
  {
   "cell_type": "markdown",
   "id": "7889b1db",
   "metadata": {},
   "source": [
    "### Question 1:\n",
    "**What is the difference between descriptive statistics and inferential statistics? Explain with examples.**\n",
    "\n",
    "**Answer:**\n",
    "\n",
    "Descriptive statistics summarize and organize characteristics of a dataset. Examples include measures like mean, median, mode, and standard deviation.\n",
    "\n",
    "Inferential statistics use sample data to make generalizations or predictions about a population. Techniques include hypothesis testing, confidence intervals, and regression analysis.\n",
    "\n",
    "*Example:* If a class of students scores an average of 75 on a test, that's descriptive. If we use that data to infer the performance of all students in a school, that's inferential.\n"
   ]
  },
  {
   "cell_type": "markdown",
   "id": "ce73223d",
   "metadata": {},
   "source": [
    "### Question 2:\n",
    "**What is sampling in statistics? Explain the differences between random and stratified sampling.**\n",
    "\n",
    "**Answer:**\n",
    "\n",
    "Sampling is the process of selecting a subset (sample) from a population to estimate characteristics of the whole population.\n",
    "\n",
    "- **Random sampling**: Every member has an equal chance of selection.\n",
    "- **Stratified sampling**: The population is divided into strata (groups), and random samples are taken from each stratum.\n",
    "\n",
    "*Example:* Surveying 100 random people in a city vs. selecting 50 men and 50 women from the same city.\n"
   ]
  },
  {
   "cell_type": "markdown",
   "id": "13377561",
   "metadata": {},
   "source": [
    "### Question 3:\n",
    "**Define mean, median, and mode. Explain why these measures of central tendency are important.**\n",
    "\n",
    "**Answer:**\n",
    "\n",
    "- **Mean**: The average of the numbers.\n",
    "- **Median**: The middle value when the numbers are sorted.\n",
    "- **Mode**: The number that appears most frequently.\n",
    "\n",
    "They help summarize large datasets into a single representative value and provide insight into data distribution.\n"
   ]
  },
  {
   "cell_type": "markdown",
   "id": "50173531",
   "metadata": {},
   "source": [
    "### Question 4:\n",
    "**Explain skewness and kurtosis. What does a positive skew imply about the data?**\n",
    "\n",
    "**Answer:**\n",
    "\n",
    "- **Skewness**: Measures the asymmetry of the data distribution.\n",
    "  - Positive skew: Tail on the right, more values on the left.\n",
    "- **Kurtosis**: Measures the \"tailedness\" of the distribution.\n",
    "  - High kurtosis: More outliers.\n",
    "  - Low kurtosis: Fewer outliers.\n",
    "\n",
    "A **positive skew** implies that the data has more lower values and a long tail on the right.\n"
   ]
  },
  {
   "cell_type": "code",
   "execution_count": 3,
   "id": "3a9b3ebf",
   "metadata": {},
   "outputs": [
    {
     "name": "stdout",
     "output_type": "stream",
     "text": [
      "Mean: 19.6\n",
      "Median: 19\n",
      "Mode: 12\n"
     ]
    }
   ],
   "source": [
    "#Question 5:Implement a Python program to compute the mean, median, and mode of a given list of numbers.\n",
    "\n",
    "import statistics as stats\n",
    "\n",
    "numbers = [12, 15, 12, 18, 19, 12, 20, 22, 19, 19, 24, 24, 24, 26, 28]\n",
    "\n",
    "mean_val = stats.mean(numbers)\n",
    "median_val = stats.median(numbers)\n",
    "mode_val = stats.mode(numbers)\n",
    "\n",
    "print(f\"Mean: {mean_val}\")\n",
    "print(f\"Median: {median_val}\")\n",
    "print(f\"Mode: {mode_val}\")"
   ]
  },
  {
   "cell_type": "code",
   "execution_count": 4,
   "id": "ce838f2a",
   "metadata": {},
   "outputs": [
    {
     "name": "stdout",
     "output_type": "stream",
     "text": [
      "Covariance Matrix:\n",
      "[[200. 220.]\n",
      " [220. 244.]]\n",
      "Correlation Coefficient Matrix:\n",
      "[[1.         0.99589321]\n",
      " [0.99589321 1.        ]]\n"
     ]
    }
   ],
   "source": [
    "# Question 6:Compute the covariance and correlation coefficient between the following two datasets:\n",
    "import numpy as np\n",
    "\n",
    "list_x = [10, 20, 30, 40, 50]\n",
    "list_y = [15, 25, 35, 45, 60]\n",
    "\n",
    "cov_matrix = np.cov(list_x, list_y, ddof=0)\n",
    "correlation = np.corrcoef(list_x, list_y)\n",
    "\n",
    "print(\"Covariance Matrix:\")\n",
    "print(cov_matrix)\n",
    "print(\"Correlation Coefficient Matrix:\")\n",
    "print(correlation)"
   ]
  },
  {
   "cell_type": "code",
   "execution_count": 6,
   "id": "c5e971c2",
   "metadata": {},
   "outputs": [
    {
     "data": {
      "image/png": "[encoded data removed]",
      "text/plain": [
       "<Figure size 640x480 with 1 Axes>"
      ]
     },
     "metadata": {},
     "output_type": "display_data"
    }
   ],
   "source": [
    "# Question 7:Write a Python script to draw a boxplot and identify outliers.\n",
    "import matplotlib.pyplot as plt\n",
    "\n",
    "data = [12, 14, 14, 15, 18, 19, 19, 21, 22, 22, 23, 23, 24, 26, 29, 35]\n",
    "\n",
    "plt.boxplot(data)\n",
    "plt.title(\"Boxplot of Data\")\n",
    "plt.ylabel(\"Values\")\n",
    "plt.grid(True)\n",
    "plt.show()\n",
    "\n",
    "#Outliers are values that lie outside the whiskers of the boxplot. In this case, 35 is likely an outlier.\n"
   ]
  },
  {
   "cell_type": "code",
   "execution_count": 7,
   "id": "75d8f0b4",
   "metadata": {},
   "outputs": [
    {
     "name": "stdout",
     "output_type": "stream",
     "text": [
      "Covariance Matrix:\n",
      "[[ 11600.  67900.]\n",
      " [ 67900. 402600.]]\n",
      "Correlation Coefficient Matrix:\n",
      "[[1.         0.99358241]\n",
      " [0.99358241 1.        ]]\n"
     ]
    }
   ],
   "source": [
    "# Question 8:Explore relationship between advertising spend and daily sales.Covariance shows direction; correlation shows strength and direction.\n",
    "advertising_spend = [200, 250, 300, 400, 500]\n",
    "daily_sales = [2200, 2450, 2750, 3200, 4000]\n",
    "\n",
    "cov_matrix = np.cov(advertising_spend, daily_sales, ddof=0)\n",
    "correlation = np.corrcoef(advertising_spend, daily_sales)\n",
    "\n",
    "print(\"Covariance Matrix:\")\n",
    "print(cov_matrix)\n",
    "print(\"Correlation Coefficient Matrix:\")\n",
    "print(correlation)"
   ]
  },
  {
   "cell_type": "code",
   "execution_count": 9,
   "id": "c76a3a8a",
   "metadata": {},
   "outputs": [
    {
     "name": "stdout",
     "output_type": "stream",
     "text": [
      "Mean: 7.333333333333333\n",
      "Standard Deviation: 1.577621275493231\n"
     ]
    },
    {
     "data": {
      "image/png": "[encoded data removed]",
      "text/plain": [
       "<Figure size 640x480 with 1 Axes>"
      ]
     },
     "metadata": {},
     "output_type": "display_data"
    }
   ],
   "source": [
    "# Question 9:Understand distribution of customer satisfaction survey data.Use mean, median, standard deviation, and histogram\n",
    "import matplotlib.pyplot as plt\n",
    "import numpy as np\n",
    "\n",
    "survey_scores = [7, 8, 5, 9, 6, 7, 8, 9, 10, 4, 7, 6, 9, 8, 7]\n",
    "\n",
    "mean = np.mean(survey_scores)\n",
    "std = np.std(survey_scores)\n",
    "\n",
    "print(f\"Mean: {mean}\")\n",
    "print(f\"Standard Deviation: {std}\")\n",
    "\n",
    "plt.hist(survey_scores, bins=6, color='skyblue', edgecolor='black')\n",
    "plt.title(\"Histogram of Survey Scores\")\n",
    "plt.xlabel(\"Score\")\n",
    "plt.ylabel(\"Frequency\")\n",
    "plt.grid(True)\n",
    "plt.show()"
   ]
  },
  {
   "cell_type": "code",
   "execution_count": null,
   "id": "f03d4d46-312c-4680-b8e0-9f7e8e111bdc",
   "metadata": {},
   "outputs": [],
   "source": []
  }
 ],
 "metadata": {
  "kernelspec": {
   "display_name": "Python 3 (ipykernel)",
   "language": "python",
   "name": "python3"
  },
  "language_info": {
   "codemirror_mode": {
    "name": "ipython",
    "version": 3
   },
   "file_extension": ".py",
   "mimetype": "text/x-python",
   "name": "python",
   "nbconvert_exporter": "python",
   "pygments_lexer": "ipython3",
   "version": "3.13.5"
  }
 },
 "nbformat": 4,
 "nbformat_minor": 5
}
